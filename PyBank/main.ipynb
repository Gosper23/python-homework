{
 "cells": [
  {
   "cell_type": "code",
   "execution_count": 359,
   "id": "b28186d7-bde3-44cd-b1f5-fd3cefd90aec",
   "metadata": {},
   "outputs": [],
   "source": [
    "#-*-coding: utf-8 -*-\n",
    "# Import the csv file\n",
    "from pathlib import Path\n",
    "import csv\n",
    "\n",
    "# Set file path\n",
    "csvpath = Path('../PyBank/budget_data.csv')\n",
    "\n",
    "# Initialise variable to hold profit and loss\n",
    "month_pnl = []\n"
   ]
  },
  {
   "cell_type": "code",
   "execution_count": 360,
   "id": "ccf297a8-beda-427b-ba60-6b3d073e042e",
   "metadata": {},
   "outputs": [
    {
     "name": "stdout",
     "output_type": "stream",
     "text": [
      "['Date', 'Profit/Losses']\n",
      "['Jan-2010', 867884]\n",
      "['Feb-2010', 984655]\n",
      "['Mar-2010', 322013]\n",
      "['Apr-2010', -69417]\n",
      "['May-2010', 310503]\n",
      "['Jun-2010', 522857]\n",
      "['Jul-2010', 1033096]\n",
      "['Aug-2010', 604885]\n",
      "['Sep-2010', -216386]\n",
      "['Oct-2010', 477532]\n",
      "['Nov-2010', 893810]\n",
      "['Dec-2010', -80353]\n",
      "['Jan-2011', 779806]\n",
      "['Feb-2011', -335203]\n",
      "['Mar-2011', 697845]\n",
      "['Apr-2011', 793163]\n",
      "['May-2011', 485070]\n",
      "['Jun-2011', 584122]\n",
      "['Jul-2011', 62729]\n",
      "['Aug-2011', 668179]\n",
      "['Sep-2011', 899906]\n",
      "['Oct-2011', 834719]\n",
      "['Nov-2011', 132003]\n",
      "['Dec-2011', 309978]\n",
      "['Jan-2012', -755566]\n",
      "['Feb-2012', 1170593]\n",
      "['Mar-2012', 252788]\n",
      "['Apr-2012', 1151518]\n",
      "['May-2012', 817256]\n",
      "['Jun-2012', 570757]\n",
      "['Jul-2012', 506702]\n",
      "['Aug-2012', -1022534]\n",
      "['Sep-2012', 475062]\n",
      "['Oct-2012', 779976]\n",
      "['Nov-2012', 144175]\n",
      "['Dec-2012', 542494]\n",
      "['Jan-2013', 359333]\n",
      "['Feb-2013', 321469]\n",
      "['Mar-2013', 67780]\n",
      "['Apr-2013', 471435]\n",
      "['May-2013', 565603]\n",
      "['Jun-2013', 872480]\n",
      "['Jul-2013', 789480]\n",
      "['Aug-2013', 999942]\n",
      "['Sep-2013', -1196225]\n",
      "['Oct-2013', 268997]\n",
      "['Nov-2013', -687986]\n",
      "['Dec-2013', 1150461]\n",
      "['Jan-2014', 682458]\n",
      "['Feb-2014', 617856]\n",
      "['Mar-2014', 824098]\n",
      "['Apr-2014', 581943]\n",
      "['May-2014', 132864]\n",
      "['Jun-2014', 448062]\n",
      "['Jul-2014', 689161]\n",
      "['Aug-2014', 800701]\n",
      "['Sep-2014', 1166643]\n",
      "['Oct-2014', 947333]\n",
      "['Nov-2014', 578668]\n",
      "['Dec-2014', 988505]\n",
      "['Jan-2015', 1139715]\n",
      "['Feb-2015', 1029471]\n",
      "['Mar-2015', 687533]\n",
      "['Apr-2015', -524626]\n",
      "['May-2015', 158620]\n",
      "['Jun-2015', 87795]\n",
      "['Jul-2015', 423389]\n",
      "['Aug-2015', 840723]\n",
      "['Sep-2015', 568529]\n",
      "['Oct-2015', 332067]\n",
      "['Nov-2015', 989499]\n",
      "['Dec-2015', 778237]\n",
      "['Jan-2016', 650000]\n",
      "['Feb-2016', -1100387]\n",
      "['Mar-2016', -174946]\n",
      "['Apr-2016', 757143]\n",
      "['May-2016', 445709]\n",
      "['Jun-2016', 712961]\n",
      "['Jul-2016', -1163797]\n",
      "['Aug-2016', 569899]\n",
      "['Sep-2016', 768450]\n",
      "['Oct-2016', 102685]\n",
      "['Nov-2016', 795914]\n",
      "['Dec-2016', 60988]\n",
      "['Jan-2017', 138230]\n",
      "['Feb-2017', 671099]\n"
     ]
    }
   ],
   "source": [
    "# Open the input as an object\n",
    "with open(csvpath, 'r') as csvfile:\n",
    "    csvreader = csv.reader(csvfile, delimiter=\",\")\n",
    "    csv_header = next(csvreader)\n",
    "    \n",
    "    # Pass in the csv file to the csv.reader function\n",
    "    # Using \",\" as the delimiter and returning csvreader object\n",
    "   \n",
    "    # Print the header\n",
    "    print(csv_header)\n",
    "    \n",
    "    # read each row of the data afer the header\n",
    "    for row in csvreader:\n",
    "        # Print if needed to to check if working if needed\n",
    "        # print(row)   \n",
    "        # Set month_data rows and setting the second column as an int\n",
    "        month_data = [row[0], int(row[1])]\n",
    "        # Using append to assign month_data to the csv file\n",
    "        month_pnl.append(month_data)\n",
    "        # Print to check\n",
    "        print(month_data)\n",
    "        \n",
    "# Initialise metric values\n",
    "max_month_pnl = 0\n",
    "max_month_date = 0\n",
    "min_month_pnl = 0\n",
    "min_month_date = 0\n",
    "avg_month_pnl = 0\n",
    "total_month_pnl = 0\n",
    "count_month_pnl = 0"
   ]
  },
  {
   "cell_type": "code",
   "execution_count": 361,
   "id": "b80152e1-5878-465d-96b0-6e3c1e8bc69b",
   "metadata": {},
   "outputs": [
    {
     "name": "stdout",
     "output_type": "stream",
     "text": [
      "Months: 86\n",
      "Total: $38382578\n"
     ]
    }
   ],
   "source": [
    "# To find the Months in dataset and the total amount or profit, run a loop to sum each line and cound each line\n",
    "for month_data in month_pnl:\n",
    "    #Count months in data set by adding 1\n",
    "    count_month_pnl += 1\n",
    "    # Calculate total profit by adding each line together in loop\n",
    "    total_month_pnl += month_data[1]\n",
    "\n",
    "# Check results\n",
    "print(f\"Months: {count_month_pnl}\")\n",
    "print(f\"Total: ${total_month_pnl}\")\n"
   ]
  },
  {
   "cell_type": "code",
   "execution_count": 362,
   "id": "43de0d8e-0c69-4136-8eb9-785c7a5992a9",
   "metadata": {},
   "outputs": [
    {
     "name": "stdout",
     "output_type": "stream",
     "text": [
      "Average Change: $446309.05\n"
     ]
    }
   ],
   "source": [
    "# Calculate the average of Profit and Loss over the entire period.\n",
    "# Round the results to 2 decimal places\n",
    "avg_month_pnl = round(total_month_pnl / count_month_pnl, 2)\n",
    "print(f\"Average Change: ${avg_month_pnl}\")"
   ]
  },
  {
   "cell_type": "code",
   "execution_count": 363,
   "id": "1ab2b81b-6d37-435d-84e5-4410c348b3ad",
   "metadata": {},
   "outputs": [
    {
     "name": "stdout",
     "output_type": "stream",
     "text": [
      "Greatest Increase in Profits: Feb-2012 ($1170593)\n",
      "Greatest Decrease in Profits: Sep-2013 ($-1196225)\n"
     ]
    }
   ],
   "source": [
    "# Loop month_pnl to determine min and max months\n",
    "for monthly_data in month_pnl:\n",
    "    # Use if elif function to determine Max and Min\n",
    "    if monthly_data[1] > max_month_pnl:\n",
    "        max_month_pnl = monthly_data[1]\n",
    "        max_month_date = monthly_data[0]\n",
    "    elif monthly_data[1] < min_month_pnl:\n",
    "        min_month_pnl = monthly_data[1]\n",
    "        min_month_date = monthly_data[0]\n",
    "print(f\"Greatest Increase in Profits: {max_month_date} (${max_month_pnl})\")\n",
    "print(f\"Greatest Decrease in Profits: {min_month_date} (${min_month_pnl})\")"
   ]
  },
  {
   "cell_type": "code",
   "execution_count": 364,
   "id": "53f8dba1-5dbd-45a4-b835-0686c2195771",
   "metadata": {},
   "outputs": [
    {
     "name": "stdout",
     "output_type": "stream",
     "text": [
      "Financial Analysis\n",
      "-----------------------------\n",
      "Total Months: 86\n",
      "Total: $38382578\n",
      "Average Change: $446309.05\n",
      "Greatest Increase in Profits: Feb-2012($1170593)\n",
      "Greatest Decrease in Profits: Sep-2013($-1196225)\n"
     ]
    }
   ],
   "source": [
    "# Print the final financial analysis results summary\n",
    "\n",
    "print(\"Financial Analysis\")\n",
    "print(\"-----------------------------\")\n",
    "print(f\"Total Months: {count_month_pnl}\")\n",
    "print(f\"Total: ${total_month_pnl}\")\n",
    "print(f\"Average Change: ${avg_month_pnl}\")\n",
    "print(f\"Greatest Increase in Profits: {max_month_date}(${max_month_pnl})\")\n",
    "print(f\"Greatest Decrease in Profits: {min_month_date}(${min_month_pnl})\")"
   ]
  },
  {
   "cell_type": "code",
   "execution_count": 365,
   "id": "a55d9a22-f612-45e8-a969-868cc32271dc",
   "metadata": {},
   "outputs": [],
   "source": [
    "# Create a list called results to be converted into a txt file\n",
    "results = [\"Financial Analysis\", \"-----------------------------\",f\"Total Months: {count_month_pnl}\",f\"Total: ${total_month_pnl}\", f\"Average Change: ${avg_month_pnl}\", f\"Greatest Increase in Profits: {max_month_date} (${max_month_pnl})\", f\"Greatest Decrease in Profits: {min_month_date} (${min_month_pnl})\"]\n",
    "\n",
    "# Open the results as a text file \n",
    "with open('readme.txt', 'w') as f:\n",
    "    # Use f.write to write the results on each line\n",
    "    f.write('\\n'.join(results))\n",
    "    "
   ]
  },
  {
   "cell_type": "code",
   "execution_count": null,
   "id": "2b4b5a51-19bb-4c7f-bb81-0ab050362f27",
   "metadata": {},
   "outputs": [],
   "source": []
  }
 ],
 "metadata": {
  "kernelspec": {
   "display_name": "Python 3 (ipykernel)",
   "language": "python",
   "name": "python3"
  },
  "language_info": {
   "codemirror_mode": {
    "name": "ipython",
    "version": 3
   },
   "file_extension": ".py",
   "mimetype": "text/x-python",
   "name": "python",
   "nbconvert_exporter": "python",
   "pygments_lexer": "ipython3",
   "version": "3.9.7"
  }
 },
 "nbformat": 4,
 "nbformat_minor": 5
}
